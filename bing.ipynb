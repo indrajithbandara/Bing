{
 "cells": [
  {
   "cell_type": "code",
   "execution_count": 2,
   "metadata": {
    "collapsed": true
   },
   "outputs": [],
   "source": [
    "import numpy as np\n",
    "import pandas as pd\n",
    "from bs4 import BeautifulSoup\n",
    "\n",
    "import os"
   ]
  },
  {
   "cell_type": "code",
   "execution_count": 10,
   "metadata": {
    "collapsed": false
   },
   "outputs": [],
   "source": [
    "def extract_data(dirname='data/blogs/'):\n",
    "    \"\"\"\n",
    "    Extracts information regarding gender, age,\n",
    "    blog_type and zodiac in the filename\n",
    "    \"\"\"\n",
    "    gender = []\n",
    "    age = []\n",
    "    blog_type = []\n",
    "    zodiac = []\n",
    "    \n",
    "    for filename in os.listdir(dirname):\n",
    "        filename_tokens = filename.split('.')\n",
    "        \n",
    "        gender.append(filename_tokens[1])\n",
    "        age.append(int(filename_tokens[2]))\n",
    "        blog_type.append(filename_tokens[3])\n",
    "        zodiac.append(filename_tokens[4])\n",
    "    \n",
    "    return (gender, age, blog_type, zodiac)"
   ]
  },
  {
   "cell_type": "code",
   "execution_count": 11,
   "metadata": {
    "collapsed": false
   },
   "outputs": [],
   "source": [
    "gender, age, blog_type, zodiac = extract_data()"
   ]
  },
  {
   "cell_type": "code",
   "execution_count": 51,
   "metadata": {
    "collapsed": false
   },
   "outputs": [],
   "source": [
    "def get_content(data_dir='data/blogs/',n=50):\n",
    "    \"\"\"\n",
    "    Read only 50 blogs to construct this dataset\n",
    "    and read only a single post from each of those\n",
    "    50 blogs.\n",
    "    \"\"\"\n",
    "    \n",
    "    blog_posts = []\n",
    "    \n",
    "    for filename in os.listdir(data_dir)[:n]:\n",
    "        full_filename = data_dir + filename\n",
    "        \n",
    "        with open(full_filename) as infile:\n",
    "            parsed_xml = BeautifulSoup(infile, 'lxml')\n",
    "            \n",
    "            posts = parsed_xml.find_all('post')\n",
    "            post_text = ''\n",
    "            \n",
    "            for post in posts[:1]:\n",
    "                post = post.get_text().strip()\n",
    "                post = post.lower()\n",
    "                post_text += post\n",
    "            \n",
    "            blog_posts.append(post_text)\n",
    "    \n",
    "    return blog_posts"
   ]
  },
  {
   "cell_type": "code",
   "execution_count": 52,
   "metadata": {
    "collapsed": false
   },
   "outputs": [],
   "source": [
    "blog_posts_text = get_content()"
   ]
  },
  {
   "cell_type": "code",
   "execution_count": 53,
   "metadata": {
    "collapsed": true
   },
   "outputs": [],
   "source": [
    "# column names\n",
    "columns = ['gender', 'age', 'blog_type', 'zodiac', 'blog_text']"
   ]
  },
  {
   "cell_type": "code",
   "execution_count": 54,
   "metadata": {
    "collapsed": true
   },
   "outputs": [],
   "source": [
    "# create a pandas dataframe out of it\n",
    "def prepare_dataset(columns, values):\n",
    "    \n",
    "    data = dict(zip(columns, values))\n",
    "    df = pd.DataFrame(data)\n",
    "    \n",
    "    return df"
   ]
  },
  {
   "cell_type": "code",
   "execution_count": 55,
   "metadata": {
    "collapsed": false
   },
   "outputs": [
    {
     "data": {
      "text/html": [
       "<div>\n",
       "<table border=\"1\" class=\"dataframe\">\n",
       "  <thead>\n",
       "    <tr style=\"text-align: right;\">\n",
       "      <th></th>\n",
       "      <th>age</th>\n",
       "      <th>blog_text</th>\n",
       "      <th>blog_type</th>\n",
       "      <th>gender</th>\n",
       "      <th>zodiac</th>\n",
       "    </tr>\n",
       "  </thead>\n",
       "  <tbody>\n",
       "    <tr>\n",
       "      <th>0</th>\n",
       "      <td>37</td>\n",
       "      <td>well, everyone got up and going this morning. ...</td>\n",
       "      <td>indUnk</td>\n",
       "      <td>female</td>\n",
       "      <td>Leo</td>\n",
       "    </tr>\n",
       "    <tr>\n",
       "      <th>1</th>\n",
       "      <td>17</td>\n",
       "      <td>yeah, sorry for not writing for a whole there,...</td>\n",
       "      <td>Student</td>\n",
       "      <td>female</td>\n",
       "      <td>Libra</td>\n",
       "    </tr>\n",
       "    <tr>\n",
       "      <th>2</th>\n",
       "      <td>23</td>\n",
       "      <td>cupid,please hear my cry, cupid, please let yo...</td>\n",
       "      <td>Arts</td>\n",
       "      <td>male</td>\n",
       "      <td>Capricorn</td>\n",
       "    </tr>\n",
       "    <tr>\n",
       "      <th>3</th>\n",
       "      <td>25</td>\n",
       "      <td>and did i mention that i no longer have to dea...</td>\n",
       "      <td>Arts</td>\n",
       "      <td>female</td>\n",
       "      <td>Cancer</td>\n",
       "    </tr>\n",
       "    <tr>\n",
       "      <th>4</th>\n",
       "      <td>25</td>\n",
       "      <td>b-logs: the business blogs paradox    urllink ...</td>\n",
       "      <td>Engineering</td>\n",
       "      <td>male</td>\n",
       "      <td>Sagittarius</td>\n",
       "    </tr>\n",
       "  </tbody>\n",
       "</table>\n",
       "</div>"
      ],
      "text/plain": [
       "   age                                          blog_text    blog_type  \\\n",
       "0   37  well, everyone got up and going this morning. ...       indUnk   \n",
       "1   17  yeah, sorry for not writing for a whole there,...      Student   \n",
       "2   23  cupid,please hear my cry, cupid, please let yo...         Arts   \n",
       "3   25  and did i mention that i no longer have to dea...         Arts   \n",
       "4   25  b-logs: the business blogs paradox    urllink ...  Engineering   \n",
       "\n",
       "   gender       zodiac  \n",
       "0  female          Leo  \n",
       "1  female        Libra  \n",
       "2    male    Capricorn  \n",
       "3  female       Cancer  \n",
       "4    male  Sagittarius  "
      ]
     },
     "execution_count": 55,
     "metadata": {},
     "output_type": "execute_result"
    }
   ],
   "source": [
    "data = prepare_dataset(columns, [gender[:50], age[:50], blog_type[:50], zodiac[:50], blog_posts_text[:50]])\n",
    "data.head()"
   ]
  },
  {
   "cell_type": "code",
   "execution_count": 164,
   "metadata": {
    "collapsed": false
   },
   "outputs": [],
   "source": [
    "%run scripts/features.py"
   ]
  },
  {
   "cell_type": "code",
   "execution_count": 165,
   "metadata": {
    "collapsed": false
   },
   "outputs": [],
   "source": [
    "features = ['blog_text', 'blog_type', 'zodiac']\n",
    "\n",
    "X = data[features]\n",
    "y = data['gender']"
   ]
  },
  {
   "cell_type": "code",
   "execution_count": 166,
   "metadata": {
    "collapsed": true
   },
   "outputs": [],
   "source": [
    "from sklearn.preprocessing import LabelEncoder\n",
    "\n",
    "lbl = LabelEncoder()\n",
    "lbl.fit(y)\n",
    "\n",
    "y = lbl.transform(y)"
   ]
  },
  {
   "cell_type": "code",
   "execution_count": 167,
   "metadata": {
    "collapsed": true
   },
   "outputs": [],
   "source": [
    "from sklearn.cross_validation import train_test_split\n",
    "\n",
    "X_train, X_test, y_train, y_test = train_test_split(X, y, test_size=0.15, random_state=44)"
   ]
  },
  {
   "cell_type": "code",
   "execution_count": 168,
   "metadata": {
    "collapsed": false
   },
   "outputs": [
    {
     "name": "stdout",
     "output_type": "stream",
     "text": [
      "(42, 3) (8, 3)\n"
     ]
    }
   ],
   "source": [
    "# shape of training and testing set\n",
    "print X_train.shape, X_test.shape"
   ]
  },
  {
   "cell_type": "code",
   "execution_count": 169,
   "metadata": {
    "collapsed": true
   },
   "outputs": [],
   "source": [
    "from sklearn.pipeline import Pipeline\n",
    "from sklearn.linear_model import PassiveAggressiveClassifier, LogisticRegression"
   ]
  },
  {
   "cell_type": "code",
   "execution_count": 170,
   "metadata": {
    "collapsed": true
   },
   "outputs": [],
   "source": [
    "ft = FeatureTransformer(X_train, X_test)\n",
    "log_reg = LogisticRegression()"
   ]
  },
  {
   "cell_type": "code",
   "execution_count": 171,
   "metadata": {
    "collapsed": true
   },
   "outputs": [],
   "source": [
    "pipeline_logistic = Pipeline([('ft', ft), ('log_reg', log_reg)])"
   ]
  },
  {
   "cell_type": "code",
   "execution_count": 172,
   "metadata": {
    "collapsed": false
   },
   "outputs": [
    {
     "data": {
      "text/plain": [
       "Pipeline(steps=[('ft', FeatureTransformer(test=None, train=None)), ('log_reg', LogisticRegression(C=1.0, class_weight=None, dual=False, fit_intercept=True,\n",
       "          intercept_scaling=1, max_iter=100, multi_class='ovr',\n",
       "          penalty='l2', random_state=None, solver='liblinear', tol=0.0001,\n",
       "          verbose=0))])"
      ]
     },
     "execution_count": 172,
     "metadata": {},
     "output_type": "execute_result"
    }
   ],
   "source": [
    "# fit a logistic regression pipeline\n",
    "pipeline_logistic.fit(X_train, y_train)"
   ]
  },
  {
   "cell_type": "code",
   "execution_count": 174,
   "metadata": {
    "collapsed": false
   },
   "outputs": [
    {
     "name": "stdout",
     "output_type": "stream",
     "text": [
      "Accuracy score on the training examples 0.642857 \n",
      "Accuracy score on the test examples 0.375000 \n"
     ]
    }
   ],
   "source": [
    "from sklearn.metrics import accuracy_score\n",
    "\n",
    "predsTrain = pipeline_logistic.predict(X_train)\n",
    "predsTest = pipeline_logistic.predict(X_test)\n",
    "\n",
    "print 'Accuracy score on the training examples %f ' %(accuracy_score(y_train, predsTrain))\n",
    "print 'Accuracy score on the test examples %f ' %(accuracy_score(y_test, predsTest))"
   ]
  },
  {
   "cell_type": "code",
   "execution_count": null,
   "metadata": {
    "collapsed": true
   },
   "outputs": [],
   "source": []
  }
 ],
 "metadata": {
  "kernelspec": {
   "display_name": "Python 2",
   "language": "python",
   "name": "python2"
  },
  "language_info": {
   "codemirror_mode": {
    "name": "ipython",
    "version": 2
   },
   "file_extension": ".py",
   "mimetype": "text/x-python",
   "name": "python",
   "nbconvert_exporter": "python",
   "pygments_lexer": "ipython2",
   "version": "2.7.11"
  }
 },
 "nbformat": 4,
 "nbformat_minor": 0
}
